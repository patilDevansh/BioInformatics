{
 "cells": [
  {
   "cell_type": "code",
   "execution_count": 1,
   "metadata": {},
   "outputs": [
    {
     "name": "stdout",
     "output_type": "stream",
     "text": [
      "Graph Data Object:\n",
      "Data(x=[3, 2], edge_index=[2, 2])\n"
     ]
    }
   ],
   "source": [
    "import torch\n",
    "import torch_geometric\n",
    "from torch_geometric.data import Data\n",
    "import networkx as nx\n",
    "import numpy as np\n",
    "\n",
    "# Define the edge index (PyTorch Geometric format)\n",
    "edge_index = torch.tensor([[0, 1], [1, 2]], dtype=torch.long)  # (From, To)\n",
    "\n",
    "# Define node features (each node has 2 features)\n",
    "x = torch.tensor([[0.5, 1.2], [0.3, 0.8], [0.9, 1.5]], dtype=torch.float)\n",
    "\n",
    "# Create the PyTorch Geometric data object\n",
    "graph_data = Data(x=x, edge_index=edge_index.t())\n",
    "\n",
    "print(\"Graph Data Object:\")\n",
    "print(graph_data)"
   ]
  },
  {
   "cell_type": "code",
   "execution_count": 2,
   "metadata": {},
   "outputs": [
    {
     "name": "stdout",
     "output_type": "stream",
     "text": [
      "GNN Output:\n",
      " tensor([[ 0.8543, -0.1073],\n",
      "        [ 1.0399, -0.1280],\n",
      "        [ 0.8982, -0.1204]], grad_fn=<AddBackward0>)\n"
     ]
    }
   ],
   "source": [
    "import torch\n",
    "import torch.nn.functional as F\n",
    "from torch_geometric.nn import GCNConv\n",
    "from torch_geometric.data import Data\n",
    "\n",
    "# Define a simple GNN\n",
    "class GNN(torch.nn.Module):\n",
    "    def __init__(self, in_channels, hidden_channels, out_channels):\n",
    "        super(GNN, self).__init__()\n",
    "        self.conv1 = GCNConv(in_channels, hidden_channels)\n",
    "        self.conv2 = GCNConv(hidden_channels, out_channels)\n",
    "\n",
    "    def forward(self, data):\n",
    "        x, edge_index = data.x, data.edge_index\n",
    "        x = self.conv1(x, edge_index)\n",
    "        x = F.relu(x)  # Activation function\n",
    "        x = self.conv2(x, edge_index)\n",
    "        return x\n",
    "\n",
    "# Create dummy graph data (from previous step)\n",
    "edge_index = torch.tensor([[0, 1], [1, 2]], dtype=torch.long).t()\n",
    "x = torch.tensor([[0.5, 1.2], [0.3, 0.8], [0.9, 1.5]], dtype=torch.float)\n",
    "graph_data = Data(x=x, edge_index=edge_index)\n",
    "\n",
    "# Initialize GNN\n",
    "model = GNN(in_channels=2, hidden_channels=4, out_channels=2)\n",
    "\n",
    "# Forward pass\n",
    "output = model(graph_data)\n",
    "print(\"GNN Output:\\n\", output)"
   ]
  },
  {
   "cell_type": "code",
   "execution_count": 3,
   "metadata": {},
   "outputs": [
    {
     "name": "stdout",
     "output_type": "stream",
     "text": [
      "Epoch 0, Loss: 0.6682\n",
      "Epoch 10, Loss: 0.6558\n",
      "Epoch 20, Loss: 0.6459\n",
      "Epoch 30, Loss: 0.6355\n",
      "Epoch 40, Loss: 0.6249\n",
      "Epoch 50, Loss: 0.6137\n",
      "Epoch 60, Loss: 0.6018\n",
      "Epoch 70, Loss: 0.5891\n",
      "Epoch 80, Loss: 0.5752\n",
      "Epoch 90, Loss: 0.5601\n",
      "Final GNN Predictions:\n",
      " tensor([[-0.0942, -0.6532],\n",
      "        [-0.3520, -0.5780],\n",
      "        [ 0.0641, -0.7356]], grad_fn=<AddBackward0>)\n"
     ]
    }
   ],
   "source": [
    "import torch\n",
    "import torch.nn.functional as F\n",
    "from torch_geometric.nn import GCNConv\n",
    "from torch_geometric.data import Data\n",
    "\n",
    "# Define the GNN model\n",
    "class GNN(torch.nn.Module):\n",
    "    def __init__(self, in_channels, hidden_channels, out_channels):\n",
    "        super(GNN, self).__init__()\n",
    "        self.conv1 = GCNConv(in_channels, hidden_channels)\n",
    "        self.conv2 = GCNConv(hidden_channels, out_channels)\n",
    "\n",
    "    def forward(self, data):\n",
    "        x, edge_index = data.x, data.edge_index\n",
    "        x = self.conv1(x, edge_index)\n",
    "        x = F.relu(x)  # Activation function\n",
    "        x = self.conv2(x, edge_index)\n",
    "        return x\n",
    "\n",
    "# Create dummy graph data (same as before)\n",
    "edge_index = torch.tensor([[0, 1], [1, 2]], dtype=torch.long).t()\n",
    "x = torch.tensor([[0.5, 1.2], [0.3, 0.8], [0.9, 1.5]], dtype=torch.float)\n",
    "y = torch.tensor([0, 1, 0], dtype=torch.long)  # Labels for each node\n",
    "\n",
    "graph_data = Data(x=x, edge_index=edge_index, y=y)\n",
    "\n",
    "# Initialize model, loss function, and optimizer\n",
    "model = GNN(in_channels=2, hidden_channels=4, out_channels=2)\n",
    "optimizer = torch.optim.Adam(model.parameters(), lr=0.01)\n",
    "criterion = torch.nn.CrossEntropyLoss()\n",
    "\n",
    "# Training loop\n",
    "num_epochs = 100\n",
    "for epoch in range(num_epochs):\n",
    "    optimizer.zero_grad()  # Reset gradients\n",
    "    out = model(graph_data)  # Forward pass\n",
    "    loss = criterion(out, graph_data.y)  # Compute loss\n",
    "    loss.backward()  # Backpropagation\n",
    "    optimizer.step()  # Update weights\n",
    "\n",
    "    if epoch % 10 == 0:\n",
    "        print(f\"Epoch {epoch}, Loss: {loss.item():.4f}\")\n",
    "\n",
    "# Final output\n",
    "print(\"Final GNN Predictions:\\n\", out)\n"
   ]
  },
  {
   "cell_type": "code",
   "execution_count": 7,
   "metadata": {},
   "outputs": [
    {
     "name": "stdout",
     "output_type": "stream",
     "text": [
      "<class 'pandas.core.frame.DataFrame'>\n",
      "RangeIndex: 1380190 entries, 0 to 1380189\n",
      "Data columns (total 7 columns):\n",
      " #   Column            Non-Null Count    Dtype \n",
      "---  ------            --------------    ----- \n",
      " 0   Accession         1380190 non-null  object\n",
      " 1   Release_Date      1380190 non-null  object\n",
      " 2   Nuc_Completeness  1380190 non-null  object\n",
      " 3   Segment           1319653 non-null  object\n",
      " 4   Country           1320180 non-null  object\n",
      " 5   Host              1291358 non-null  object\n",
      " 6   Collection_Date   1294213 non-null  object\n",
      "dtypes: object(7)\n",
      "memory usage: 73.7+ MB\n",
      "None\n",
      "  Accession Release_Date Nuc_Completeness Segment Country                Host  \\\n",
      "0  CY231567   2017-05-15          partial       3     USA        Homo sapiens   \n",
      "1  CY077076   2011-11-08          partial       4   China  Anas platyrhynchos   \n",
      "2  OP476923   2023-01-17          partial       6   India                 NaN   \n",
      "3  OP213790   2022-08-17          partial       8     USA        Homo sapiens   \n",
      "4  MT622931   2020-06-21          partial       4     USA        Homo sapiens   \n",
      "\n",
      "  Collection_Date  \n",
      "0      2017-03-09  \n",
      "1         2007-10  \n",
      "2      2017-04-26  \n",
      "3      2022-06-04  \n",
      "4      2020-03-10  \n"
     ]
    }
   ],
   "source": [
    "import pandas as pd\n",
    "\n",
    "df = pd.read_csv(\"metadata.csv\")\n",
    "print(df.info())\n",
    "print(df.head())"
   ]
  }
 ],
 "metadata": {
  "kernelspec": {
   "display_name": "Python 3",
   "language": "python",
   "name": "python3"
  },
  "language_info": {
   "codemirror_mode": {
    "name": "ipython",
    "version": 3
   },
   "file_extension": ".py",
   "mimetype": "text/x-python",
   "name": "python",
   "nbconvert_exporter": "python",
   "pygments_lexer": "ipython3",
   "version": "3.12.8"
  }
 },
 "nbformat": 4,
 "nbformat_minor": 2
}
