{
 "cells": [
  {
   "cell_type": "code",
   "execution_count": 1,
   "metadata": {},
   "outputs": [
    {
     "name": "stdout",
     "output_type": "stream",
     "text": [
      "Graph Data Object:\n",
      "Data(x=[3, 2], edge_index=[2, 2])\n"
     ]
    }
   ],
   "source": [
    "import torch\n",
    "import torch_geometric\n",
    "from torch_geometric.data import Data\n",
    "import networkx as nx\n",
    "import numpy as np\n",
    "\n",
    "# Define the edge index (PyTorch Geometric format)\n",
    "edge_index = torch.tensor([[0, 1], [1, 2]], dtype=torch.long)  # (From, To)\n",
    "\n",
    "# Define node features (each node has 2 features)\n",
    "x = torch.tensor([[0.5, 1.2], [0.3, 0.8], [0.9, 1.5]], dtype=torch.float)\n",
    "\n",
    "# Create the PyTorch Geometric data object\n",
    "graph_data = Data(x=x, edge_index=edge_index.t())\n",
    "\n",
    "print(\"Graph Data Object:\")\n",
    "print(graph_data)"
   ]
  },
  {
   "cell_type": "code",
   "execution_count": 2,
   "metadata": {},
   "outputs": [
    {
     "name": "stdout",
     "output_type": "stream",
     "text": [
      "GNN Output:\n",
      " tensor([[ 0.8543, -0.1073],\n",
      "        [ 1.0399, -0.1280],\n",
      "        [ 0.8982, -0.1204]], grad_fn=<AddBackward0>)\n"
     ]
    }
   ],
   "source": [
    "import torch\n",
    "import torch.nn.functional as F\n",
    "from torch_geometric.nn import GCNConv\n",
    "from torch_geometric.data import Data\n",
    "\n",
    "# Define a simple GNN\n",
    "class GNN(torch.nn.Module):\n",
    "    def __init__(self, in_channels, hidden_channels, out_channels):\n",
    "        super(GNN, self).__init__()\n",
    "        self.conv1 = GCNConv(in_channels, hidden_channels)\n",
    "        self.conv2 = GCNConv(hidden_channels, out_channels)\n",
    "\n",
    "    def forward(self, data):\n",
    "        x, edge_index = data.x, data.edge_index\n",
    "        x = self.conv1(x, edge_index)\n",
    "        x = F.relu(x)  # Activation function\n",
    "        x = self.conv2(x, edge_index)\n",
    "        return x\n",
    "\n",
    "# Create dummy graph data (from previous step)\n",
    "edge_index = torch.tensor([[0, 1], [1, 2]], dtype=torch.long).t()\n",
    "x = torch.tensor([[0.5, 1.2], [0.3, 0.8], [0.9, 1.5]], dtype=torch.float)\n",
    "graph_data = Data(x=x, edge_index=edge_index)\n",
    "\n",
    "# Initialize GNN\n",
    "model = GNN(in_channels=2, hidden_channels=4, out_channels=2)\n",
    "\n",
    "# Forward pass\n",
    "output = model(graph_data)\n",
    "print(\"GNN Output:\\n\", output)"
   ]
  },
  {
   "cell_type": "code",
   "execution_count": 3,
   "metadata": {},
   "outputs": [
    {
     "name": "stdout",
     "output_type": "stream",
     "text": [
      "Epoch 0, Loss: 0.6682\n",
      "Epoch 10, Loss: 0.6558\n",
      "Epoch 20, Loss: 0.6459\n",
      "Epoch 30, Loss: 0.6355\n",
      "Epoch 40, Loss: 0.6249\n",
      "Epoch 50, Loss: 0.6137\n",
      "Epoch 60, Loss: 0.6018\n",
      "Epoch 70, Loss: 0.5891\n",
      "Epoch 80, Loss: 0.5752\n",
      "Epoch 90, Loss: 0.5601\n",
      "Final GNN Predictions:\n",
      " tensor([[-0.0942, -0.6532],\n",
      "        [-0.3520, -0.5780],\n",
      "        [ 0.0641, -0.7356]], grad_fn=<AddBackward0>)\n"
     ]
    }
   ],
   "source": [
    "import torch\n",
    "import torch.nn.functional as F\n",
    "from torch_geometric.nn import GCNConv\n",
    "from torch_geometric.data import Data\n",
    "\n",
    "# Define the GNN model\n",
    "class GNN(torch.nn.Module):\n",
    "    def __init__(self, in_channels, hidden_channels, out_channels):\n",
    "        super(GNN, self).__init__()\n",
    "        self.conv1 = GCNConv(in_channels, hidden_channels)\n",
    "        self.conv2 = GCNConv(hidden_channels, out_channels)\n",
    "\n",
    "    def forward(self, data):\n",
    "        x, edge_index = data.x, data.edge_index\n",
    "        x = self.conv1(x, edge_index)\n",
    "        x = F.relu(x)  # Activation function\n",
    "        x = self.conv2(x, edge_index)\n",
    "        return x\n",
    "\n",
    "# Create dummy graph data (same as before)\n",
    "edge_index = torch.tensor([[0, 1], [1, 2]], dtype=torch.long).t()\n",
    "x = torch.tensor([[0.5, 1.2], [0.3, 0.8], [0.9, 1.5]], dtype=torch.float)\n",
    "y = torch.tensor([0, 1, 0], dtype=torch.long)  # Labels for each node\n",
    "\n",
    "graph_data = Data(x=x, edge_index=edge_index, y=y)\n",
    "\n",
    "# Initialize model, loss function, and optimizer\n",
    "model = GNN(in_channels=2, hidden_channels=4, out_channels=2)\n",
    "optimizer = torch.optim.Adam(model.parameters(), lr=0.01)\n",
    "criterion = torch.nn.CrossEntropyLoss()\n",
    "\n",
    "# Training loop\n",
    "num_epochs = 100\n",
    "for epoch in range(num_epochs):\n",
    "    optimizer.zero_grad()  # Reset gradients\n",
    "    out = model(graph_data)  # Forward pass\n",
    "    loss = criterion(out, graph_data.y)  # Compute loss\n",
    "    loss.backward()  # Backpropagation\n",
    "    optimizer.step()  # Update weights\n",
    "\n",
    "    if epoch % 10 == 0:\n",
    "        print(f\"Epoch {epoch}, Loss: {loss.item():.4f}\")\n",
    "\n",
    "# Final output\n",
    "print(\"Final GNN Predictions:\\n\", out)\n"
   ]
  },
  {
   "cell_type": "code",
   "execution_count": 4,
   "metadata": {},
   "outputs": [
    {
     "name": "stdout",
     "output_type": "stream",
     "text": [
      "Predicted Probabilities:\n",
      " tensor([[0.6361, 0.3639],\n",
      "        [0.5547, 0.4453],\n",
      "        [0.6912, 0.3088]])\n",
      "Predicted Classes:\n",
      " tensor([0, 0, 0])\n",
      "Model Accuracy: 66.67%\n"
     ]
    }
   ],
   "source": [
    "import torch.nn.functional as F\n",
    "\n",
    "# Get model predictions\n",
    "model.eval()  # Set model to evaluation mode\n",
    "with torch.no_grad():\n",
    "    out = model(graph_data)  # Forward pass\n",
    "\n",
    "# Convert logits to probabilities\n",
    "probabilities = F.softmax(out, dim=1)\n",
    "\n",
    "# Get predicted class labels\n",
    "predicted_classes = probabilities.argmax(dim=1)\n",
    "\n",
    "# Compute accuracy\n",
    "correct = (predicted_classes == graph_data.y).sum().item()\n",
    "total = len(graph_data.y)\n",
    "accuracy = correct / total\n",
    "\n",
    "# Print results\n",
    "print(\"Predicted Probabilities:\\n\", probabilities)\n",
    "print(\"Predicted Classes:\\n\", predicted_classes)\n",
    "print(f\"Model Accuracy: {accuracy * 100:.2f}%\")\n"
   ]
  }
 ],
 "metadata": {
  "kernelspec": {
   "display_name": "Python 3",
   "language": "python",
   "name": "python3"
  },
  "language_info": {
   "codemirror_mode": {
    "name": "ipython",
    "version": 3
   },
   "file_extension": ".py",
   "mimetype": "text/x-python",
   "name": "python",
   "nbconvert_exporter": "python",
   "pygments_lexer": "ipython3",
   "version": "3.12.8"
  }
 },
 "nbformat": 4,
 "nbformat_minor": 2
}
